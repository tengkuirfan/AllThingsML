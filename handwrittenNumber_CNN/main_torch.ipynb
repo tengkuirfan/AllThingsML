{
 "cells": [
  {
   "cell_type": "markdown",
   "metadata": {},
   "source": [
    "### Handwritten Number Recognition using Convoluted Neural Network (CNN)\n",
    "\n",
    "Using PyTorch for Apple Silicon MPS support (Tested on M3 MacBook Air)"
   ]
  },
  {
   "cell_type": "code",
   "execution_count": 1,
   "metadata": {},
   "outputs": [
    {
     "name": "stdout",
     "output_type": "stream",
     "text": [
      "Using device: mps\n"
     ]
    }
   ],
   "source": [
    "from tensorflow.keras.datasets import mnist\n",
    "import torch\n",
    "import torch.nn as nn\n",
    "import torch.optim as optim\n",
    "from torch.utils.data import DataLoader, TensorDataset\n",
    "\n",
    "# Check if MPS is available\n",
    "device = torch.device(\"mps\" if torch.backends.mps.is_available() else \"cpu\")\n",
    "print(f'Using device: {device}')\n",
    "\n",
    "# Load MNIST dataset using TensorFlow\n",
    "(x_train, y_train), (x_test, y_test) = mnist.load_data()"
   ]
  },
  {
   "cell_type": "markdown",
   "metadata": {},
   "source": [
    "If \"MPS\" appears in the output, then it utilizes Apple Silicon GPU."
   ]
  },
  {
   "cell_type": "code",
   "execution_count": 2,
   "metadata": {},
   "outputs": [],
   "source": [
    "# Normalize the data\n",
    "x_train, x_test = x_train / 255.0, x_test / 255.0\n",
    "\n",
    "# Convert to PyTorch tensors\n",
    "x_train = torch.tensor(x_train, dtype=torch.float32).unsqueeze(1)  # Add channel dimension\n",
    "y_train = torch.tensor(y_train, dtype=torch.long)\n",
    "x_test = torch.tensor(x_test, dtype=torch.float32).unsqueeze(1)  # Add channel dimension\n",
    "y_test = torch.tensor(y_test, dtype=torch.long)\n",
    "\n",
    "# Create DataLoader\n",
    "train_dataset = TensorDataset(x_train, y_train)\n",
    "test_dataset = TensorDataset(x_test, y_test)\n",
    "\n",
    "trainloader = DataLoader(train_dataset, batch_size=64, shuffle=True)\n",
    "testloader = DataLoader(test_dataset, batch_size=64, shuffle=False)"
   ]
  },
  {
   "cell_type": "code",
   "execution_count": 3,
   "metadata": {},
   "outputs": [],
   "source": [
    "# Define the CNN Model\n",
    "class CNN(nn.Module):\n",
    "    def __init__(self):\n",
    "        super(CNN, self).__init__()\n",
    "        self.conv1 = nn.Conv2d(1, 32, 3, 1)\n",
    "        self.conv2 = nn.Conv2d(32, 64, 3, 1)\n",
    "        self.fc1 = nn.Linear(9216, 128)\n",
    "        self.fc2 = nn.Linear(128, 10)\n",
    "\n",
    "    def forward(self, x):\n",
    "        x = self.conv1(x)\n",
    "        x = nn.ReLU()(x)\n",
    "        x = self.conv2(x)\n",
    "        x = nn.ReLU()(x)\n",
    "        x = nn.MaxPool2d(2)(x)\n",
    "        x = torch.flatten(x, 1)\n",
    "        x = self.fc1(x)\n",
    "        x = nn.ReLU()(x)\n",
    "        x = self.fc2(x)\n",
    "        return x\n",
    "\n",
    "model = CNN().to(device)\n",
    "\n",
    "# Define Loss and Optimizer\n",
    "criterion = nn.CrossEntropyLoss()\n",
    "optimizer = optim.Adam(model.parameters(), lr=0.001)"
   ]
  },
  {
   "cell_type": "code",
   "execution_count": 4,
   "metadata": {},
   "outputs": [
    {
     "name": "stdout",
     "output_type": "stream",
     "text": [
      "[Epoch 1, Batch 100] loss: 0.609, accuracy: 81.38%\n",
      "[Epoch 1, Batch 200] loss: 0.182, accuracy: 87.93%\n",
      "[Epoch 1, Batch 300] loss: 0.108, accuracy: 90.90%\n",
      "[Epoch 1, Batch 400] loss: 0.103, accuracy: 92.39%\n",
      "[Epoch 1, Batch 500] loss: 0.078, accuracy: 93.42%\n",
      "[Epoch 1, Batch 600] loss: 0.082, accuracy: 94.12%\n",
      "[Epoch 1, Batch 700] loss: 0.072, accuracy: 94.64%\n",
      "[Epoch 1, Batch 800] loss: 0.070, accuracy: 95.05%\n",
      "[Epoch 1, Batch 900] loss: 0.065, accuracy: 95.38%\n",
      "[Epoch 2, Batch 100] loss: 0.038, accuracy: 98.89%\n",
      "[Epoch 2, Batch 200] loss: 0.050, accuracy: 98.75%\n",
      "[Epoch 2, Batch 300] loss: 0.046, accuracy: 98.66%\n",
      "[Epoch 2, Batch 400] loss: 0.030, accuracy: 98.79%\n",
      "[Epoch 2, Batch 500] loss: 0.051, accuracy: 98.69%\n",
      "[Epoch 2, Batch 600] loss: 0.044, accuracy: 98.70%\n",
      "[Epoch 2, Batch 700] loss: 0.047, accuracy: 98.69%\n",
      "[Epoch 2, Batch 800] loss: 0.039, accuracy: 98.71%\n",
      "[Epoch 2, Batch 900] loss: 0.030, accuracy: 98.73%\n",
      "[Epoch 3, Batch 100] loss: 0.027, accuracy: 99.05%\n",
      "[Epoch 3, Batch 200] loss: 0.016, accuracy: 99.29%\n",
      "[Epoch 3, Batch 300] loss: 0.032, accuracy: 99.19%\n",
      "[Epoch 3, Batch 400] loss: 0.022, accuracy: 99.21%\n",
      "[Epoch 3, Batch 500] loss: 0.030, accuracy: 99.18%\n",
      "[Epoch 3, Batch 600] loss: 0.032, accuracy: 99.15%\n",
      "[Epoch 3, Batch 700] loss: 0.027, accuracy: 99.15%\n",
      "[Epoch 3, Batch 800] loss: 0.034, accuracy: 99.11%\n",
      "[Epoch 3, Batch 900] loss: 0.022, accuracy: 99.12%\n",
      "[Epoch 4, Batch 100] loss: 0.009, accuracy: 99.69%\n",
      "[Epoch 4, Batch 200] loss: 0.013, accuracy: 99.62%\n",
      "[Epoch 4, Batch 300] loss: 0.017, accuracy: 99.56%\n",
      "[Epoch 4, Batch 400] loss: 0.019, accuracy: 99.51%\n",
      "[Epoch 4, Batch 500] loss: 0.016, accuracy: 99.50%\n",
      "[Epoch 4, Batch 600] loss: 0.019, accuracy: 99.47%\n",
      "[Epoch 4, Batch 700] loss: 0.030, accuracy: 99.42%\n",
      "[Epoch 4, Batch 800] loss: 0.019, accuracy: 99.41%\n",
      "[Epoch 4, Batch 900] loss: 0.019, accuracy: 99.41%\n",
      "[Epoch 5, Batch 100] loss: 0.010, accuracy: 99.75%\n",
      "[Epoch 5, Batch 200] loss: 0.011, accuracy: 99.67%\n",
      "[Epoch 5, Batch 300] loss: 0.012, accuracy: 99.66%\n",
      "[Epoch 5, Batch 400] loss: 0.012, accuracy: 99.65%\n",
      "[Epoch 5, Batch 500] loss: 0.011, accuracy: 99.66%\n",
      "[Epoch 5, Batch 600] loss: 0.009, accuracy: 99.66%\n",
      "[Epoch 5, Batch 700] loss: 0.015, accuracy: 99.63%\n",
      "[Epoch 5, Batch 800] loss: 0.014, accuracy: 99.62%\n",
      "[Epoch 5, Batch 900] loss: 0.017, accuracy: 99.60%\n",
      "Finished Training\n"
     ]
    }
   ],
   "source": [
    "# Train the Model using batches\n",
    "for epoch in range(5):  # 5 epochs\n",
    "    running_loss = 0.0\n",
    "    correct = 0\n",
    "    total = 0\n",
    "    for i, data in enumerate(trainloader, 0):\n",
    "        inputs, labels = data\n",
    "        inputs, labels = inputs.to(device), labels.to(device)\n",
    "        optimizer.zero_grad()\n",
    "        outputs = model(inputs)\n",
    "        loss = criterion(outputs, labels)\n",
    "        loss.backward()\n",
    "        optimizer.step()\n",
    "        running_loss += loss.item()\n",
    "        \n",
    "        # Calculate accuracy\n",
    "        _, predicted = torch.max(outputs.data, 1)\n",
    "        total += labels.size(0)\n",
    "        correct += (predicted == labels).sum().item()\n",
    "        \n",
    "        if i % 100 == 99:    # print every 100 mini-batches\n",
    "            print(f'[Epoch {epoch + 1}, Batch {i + 1}] loss: {running_loss / 100:.3f}, accuracy: {100 * correct / total:.2f}%')\n",
    "            running_loss = 0.0\n",
    "\n",
    "print('Finished Training')"
   ]
  },
  {
   "cell_type": "markdown",
   "metadata": {},
   "source": [
    "5 Epochs, 42 seconds on M3 MBA (GPU)."
   ]
  },
  {
   "cell_type": "code",
   "execution_count": 5,
   "metadata": {},
   "outputs": [
    {
     "name": "stdout",
     "output_type": "stream",
     "text": [
      "Accuracy of the network on the 10000 test images: 98.77%\n"
     ]
    }
   ],
   "source": [
    "# Evaluate the Model\n",
    "correct = 0\n",
    "total = 0\n",
    "with torch.no_grad():\n",
    "    for data in testloader:\n",
    "        images, labels = data\n",
    "        images, labels = images.to(device), labels.to(device)\n",
    "        outputs = model(images)\n",
    "        _, predicted = torch.max(outputs.data, 1)\n",
    "        total += labels.size(0)\n",
    "        correct += (predicted == labels).sum().item()\n",
    "\n",
    "print(f'Accuracy of the network on the 10000 test images: {100 * correct / total:.2f}%')"
   ]
  }
 ],
 "metadata": {
  "kernelspec": {
   "display_name": ".venv",
   "language": "python",
   "name": "python3"
  },
  "language_info": {
   "codemirror_mode": {
    "name": "ipython",
    "version": 3
   },
   "file_extension": ".py",
   "mimetype": "text/x-python",
   "name": "python",
   "nbconvert_exporter": "python",
   "pygments_lexer": "ipython3",
   "version": "3.12.7"
  }
 },
 "nbformat": 4,
 "nbformat_minor": 2
}
